{
 "cells": [
  {
   "cell_type": "code",
   "execution_count": 1,
   "metadata": {
    "collapsed": false,
    "deletable": true,
    "editable": true
   },
   "outputs": [
    {
     "name": "stderr",
     "output_type": "stream",
     "text": [
      "also installing the dependencies ‘xts’, ‘TTR’\n",
      "\n",
      "Updating HTML index of packages in '.Library'\n",
      "Making 'packages.html' ... done\n"
     ]
    }
   ],
   "source": [
    "install.packages('quantmod')"
   ]
  },
  {
   "cell_type": "code",
   "execution_count": 2,
   "metadata": {
    "collapsed": false,
    "deletable": true,
    "editable": true
   },
   "outputs": [
    {
     "name": "stderr",
     "output_type": "stream",
     "text": [
      "Loading required package: xts\n",
      "Loading required package: zoo\n",
      "\n",
      "Attaching package: ‘zoo’\n",
      "\n",
      "The following objects are masked from ‘package:base’:\n",
      "\n",
      "    as.Date, as.Date.numeric\n",
      "\n",
      "Loading required package: TTR\n",
      "Version 0.4-0 included new data defaults. See ?getSymbols.\n"
     ]
    }
   ],
   "source": [
    "library('quantmod')"
   ]
  },
  {
   "cell_type": "code",
   "execution_count": 3,
   "metadata": {
    "collapsed": false,
    "deletable": true,
    "editable": true
   },
   "outputs": [],
   "source": [
    "# returns monthly adjusted closing stock price data from a given list of stock symbols\n",
    "monthly <- function (symbols) {\n",
    "    # fetch stock prices from yahoo finance using quantmod\n",
    "    fetch <- sapply(symbols, function(x) {\n",
    "        getSymbols(x, src=\"yahoo\", from=\"2000-01-01\", to=\"2017-01-01\", auto.assign=FALSE)\n",
    "    })\n",
    "\n",
    "    # convert the data to monthly\n",
    "    data <- lapply(fetch, function(x) {\n",
    "        to.monthly(x)\n",
    "    })\n",
    "    \n",
    "    # extract the adjust closing price from the data\n",
    "    adjusted <- lapply(data, function(x) {\n",
    "        temp <- x[, 'x.Adjusted']\n",
    "        names(temp) <- 'Adjusted'\n",
    "        return(temp)\n",
    "    })\n",
    "    \n",
    "    return(adjusted)\n",
    "}"
   ]
  },
  {
   "cell_type": "code",
   "execution_count": 4,
   "metadata": {
    "collapsed": true,
    "deletable": true,
    "editable": true
   },
   "outputs": [],
   "source": [
    "# stock symbols\n",
    "symbols <- c('^hsi', '0005.hk', '0006.hk', '0322.hk', '0001.hk', '0293.hk', '0941.hk')"
   ]
  },
  {
   "cell_type": "code",
   "execution_count": 5,
   "metadata": {
    "collapsed": false
   },
   "outputs": [
    {
     "name": "stderr",
     "output_type": "stream",
     "text": [
      "    As of 0.4-0, ‘getSymbols’ uses env=parent.frame() and\n",
      " auto.assign=TRUE by default.\n",
      "\n",
      " This  behavior  will be  phased out in 0.5-0  when the call  will\n",
      " default to use auto.assign=FALSE. getOption(\"getSymbols.env\") and \n",
      " getOptions(\"getSymbols.auto.assign\") are now checked for alternate defaults\n",
      "\n",
      " This message is shown once per session and may be disabled by setting \n",
      " options(\"getSymbols.warning4.0\"=FALSE). See ?getSymbols for more details.\n"
     ]
    }
   ],
   "source": [
    "# create adjusted closing price zoo object\n",
    "adjusted <- monthly(symbols)\n",
    "df.adjusted <- do.call(cbind, adjusted)\n",
    "names(df.adjusted) <- symbols"
   ]
  },
  {
   "cell_type": "code",
   "execution_count": 6,
   "metadata": {
    "collapsed": false,
    "deletable": true,
    "editable": true
   },
   "outputs": [],
   "source": [
    "# create zoo object for storing stock returns\n",
    "returns <- lapply(adjusted, function(x) {\n",
    "    diff(x[, 'Adjusted']) / lag(x[, 'Adjusted'] , 1)\n",
    "})\n",
    "\n",
    "df.returns <- do.call(cbind, returns)\n",
    "rsymbols <- sapply(symbols, function(x) {\n",
    "    paste('r', x, sep='')\n",
    "})\n",
    "names(df.returns) <- rsymbols"
   ]
  },
  {
   "cell_type": "code",
   "execution_count": 7,
   "metadata": {
    "collapsed": false,
    "deletable": true,
    "editable": true
   },
   "outputs": [],
   "source": [
    "# merge the adjusted stock prices with stock returns data\n",
    "df <- merge(df.adjusted, df.returns)"
   ]
  },
  {
   "cell_type": "code",
   "execution_count": 8,
   "metadata": {
    "collapsed": true
   },
   "outputs": [],
   "source": [
    "# read base rate and compute the monthly risk free rate\n",
    "base <- read.csv('base.csv')\n",
    "df$base <- base[, 'base']\n",
    "rf <- (base[, 'base']/100) / 12\n",
    "\n",
    "names(df) <- c(symbols, rsymbols, 'base')"
   ]
  },
  {
   "cell_type": "code",
   "execution_count": 9,
   "metadata": {
    "collapsed": false,
    "deletable": true,
    "editable": true
   },
   "outputs": [],
   "source": [
    "# compute the difference between risk free rate and stock returns\n",
    "\n",
    "er <- apply(df.returns, 2, function(x) {\n",
    "    x - rf\n",
    "})\n",
    "\n",
    "ersymbols <- sapply(symbols, function(x) {\n",
    "    paste('er', x, sep='')\n",
    "})\n",
    "\n",
    "df.er <- zoo(er, order.by=index(df.returns))\n",
    "names(df.er) <- ersymbols"
   ]
  },
  {
   "cell_type": "code",
   "execution_count": 10,
   "metadata": {
    "collapsed": true,
    "deletable": true,
    "editable": true
   },
   "outputs": [],
   "source": [
    "# merge the excess / shortage in returns with the adjusted closing prices and stock returns zoo object\n",
    "master <- merge(df, df.er)"
   ]
  },
  {
   "cell_type": "code",
   "execution_count": 11,
   "metadata": {
    "collapsed": true,
    "deletable": true,
    "editable": true
   },
   "outputs": [],
   "source": [
    "# write the data frames for future use\n",
    "write.zoo(master, 'data.csv', index.name='date', sep=',')\n",
    "write.zoo(df.er, 'er.csv', index.name='date', sep=',')"
   ]
  },
  {
   "cell_type": "code",
   "execution_count": 12,
   "metadata": {
    "collapsed": false,
    "deletable": true,
    "editable": true
   },
   "outputs": [],
   "source": [
    "# data frames for CAPM to run OLS\n",
    "mtft <- df.er[-1, 1]\n",
    "jtft <- df.er[-1, -1]"
   ]
  }
 ],
 "metadata": {
  "kernelspec": {
   "display_name": "R",
   "language": "R",
   "name": "ir"
  },
  "language_info": {
   "codemirror_mode": "r",
   "file_extension": ".r",
   "mimetype": "text/x-r-source",
   "name": "R",
   "pygments_lexer": "r",
   "version": "3.3.2"
  }
 },
 "nbformat": 4,
 "nbformat_minor": 2
}
